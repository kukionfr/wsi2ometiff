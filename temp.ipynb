{
 "cells": [
  {
   "cell_type": "code",
   "execution_count": 12,
   "outputs": [],
   "source": [
    "import pyvips\n",
    "import os,glob\n",
    "from natsort import natsorted\n",
    "input_dir = '/Volumes/Digital pathology image lib/SenNet JHU TDA Project/SN-LW-PA-P003-B1_SNP004/MxIF/Sec029/align_wsi/ReadDsf1_OutDsf1_2'\n",
    "ims = glob.glob(os.path.join(input_dir,'*.jpg')) + glob.glob(os.path.join(input_dir,'*.png')) + glob.glob(os.path.join(input_dir,'*.tif')) + glob.glob(os.path.join(input_dir,'*.tiff'))\n",
    "ims = natsorted(ims)\n",
    "ims = ims[0:2]\n",
    "imobj = pyvips.Image.new_from_file(ims[0])\n"
   ],
   "metadata": {
    "collapsed": false,
    "ExecuteTime": {
     "end_time": "2023-11-10T19:27:27.098596Z",
     "start_time": "2023-11-10T19:27:26.920466Z"
    }
   }
  },
  {
   "cell_type": "code",
   "execution_count": 14,
   "outputs": [
    {
     "data": {
      "text/plain": "16"
     },
     "execution_count": 14,
     "metadata": {},
     "output_type": "execute_result"
    }
   ],
   "source": [
    "imobjs = []\n",
    "for idx,im in enumerate(ims):\n",
    "    impth = os.path.join(input_dir, im)\n",
    "    imobj = pyvips.Image.new_from_file(impth)\n",
    "    # imobj = pyvips.Image.openslideload(impth,level=0)\n",
    "    if imobj.hasalpha(): imobj = imobj[:-1]\n",
    "    imobjs.append(pyvips.Image.arrayjoin(imobj.bandsplit(), across=1))\n",
    "print('z stack height :',len(imobjs))\n",
    "comp = pyvips.Image.arrayjoin(imobjs, across=1)\n",
    "image_height = imobj.height\n",
    "image_width = imobj.width\n",
    "comp = comp.copy()"
   ],
   "metadata": {
    "collapsed": false,
    "ExecuteTime": {
     "end_time": "2023-11-10T19:28:09.523527Z",
     "start_time": "2023-11-10T19:28:09.520740Z"
    }
   }
  },
  {
   "cell_type": "code",
   "execution_count": null,
   "outputs": [],
   "source": [],
   "metadata": {
    "collapsed": false
   }
  }
 ],
 "metadata": {
  "kernelspec": {
   "display_name": "Python 3",
   "language": "python",
   "name": "python3"
  },
  "language_info": {
   "codemirror_mode": {
    "name": "ipython",
    "version": 2
   },
   "file_extension": ".py",
   "mimetype": "text/x-python",
   "name": "python",
   "nbconvert_exporter": "python",
   "pygments_lexer": "ipython2",
   "version": "2.7.6"
  }
 },
 "nbformat": 4,
 "nbformat_minor": 0
}
