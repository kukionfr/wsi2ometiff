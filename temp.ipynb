{
 "cells": [
  {
   "cell_type": "code",
   "execution_count": 1,
   "metadata": {
    "collapsed": true,
    "ExecuteTime": {
     "start_time": "2023-06-15T11:41:48.560727Z",
     "end_time": "2023-06-15T11:41:48.623607Z"
    }
   },
   "outputs": [],
   "source": [
    "import pyvips  #must use conda to install\n",
    "import os\n",
    "import glob\n",
    "from natsort import natsorted\n",
    "from time import time\n",
    "import numpy as np\n",
    "from openslide import OpenSlide"
   ]
  },
  {
   "cell_type": "code",
   "execution_count": 2,
   "outputs": [],
   "source": [
    "input_dir = '/home/labuser2/Documents/shelter/skin_aging/clue_cohort/wsi'\n",
    "ims = glob.glob(os.path.join(input_dir,'*.ndpi'))\n",
    "ims = natsorted(ims)\n",
    "ims = ims[:2]\n",
    "dims=[]\n",
    "for im in ims:\n",
    "    dims.append(OpenSlide(im).dimensions)"
   ],
   "metadata": {
    "collapsed": false,
    "ExecuteTime": {
     "start_time": "2023-06-15T11:41:48.624764Z",
     "end_time": "2023-06-15T11:41:48.680133Z"
    }
   }
  },
  {
   "cell_type": "code",
   "execution_count": 3,
   "outputs": [
    {
     "data": {
      "text/plain": "[(69120, 52096), (48000, 47872)]"
     },
     "execution_count": 3,
     "metadata": {},
     "output_type": "execute_result"
    }
   ],
   "source": [
    "dims\n"
   ],
   "metadata": {
    "collapsed": false,
    "ExecuteTime": {
     "start_time": "2023-06-15T11:41:49.996844Z",
     "end_time": "2023-06-15T11:41:50.010792Z"
    }
   }
  },
  {
   "cell_type": "code",
   "execution_count": 4,
   "outputs": [],
   "source": [
    "imobj = pyvips.Image.openslideload(im,level=0)\n"
   ],
   "metadata": {
    "collapsed": false,
    "ExecuteTime": {
     "start_time": "2023-06-15T11:41:51.494540Z",
     "end_time": "2023-06-15T11:41:51.510222Z"
    }
   }
  },
  {
   "cell_type": "code",
   "execution_count": 5,
   "outputs": [
    {
     "data": {
      "text/plain": "(48000, 47872)"
     },
     "execution_count": 5,
     "metadata": {},
     "output_type": "execute_result"
    }
   ],
   "source": [
    "imobj.width,imobj.height\n"
   ],
   "metadata": {
    "collapsed": false,
    "ExecuteTime": {
     "start_time": "2023-06-15T11:41:52.720443Z",
     "end_time": "2023-06-15T11:41:52.726327Z"
    }
   }
  },
  {
   "cell_type": "code",
   "execution_count": 6,
   "outputs": [
    {
     "data": {
      "text/plain": "array([69120, 52096])"
     },
     "execution_count": 6,
     "metadata": {},
     "output_type": "execute_result"
    }
   ],
   "source": [
    "maxdim = np.max(np.array(dims),axis=0)\n",
    "maxdim"
   ],
   "metadata": {
    "collapsed": false,
    "ExecuteTime": {
     "start_time": "2023-06-15T11:41:58.726796Z",
     "end_time": "2023-06-15T11:41:58.732117Z"
    }
   }
  },
  {
   "cell_type": "code",
   "execution_count": 7,
   "outputs": [],
   "source": [
    "if imobj.hasalpha(): imobj = imobj[:-1]\n",
    "imobj2 = imobj.gravity(\"centre\", maxdim[1], maxdim[0], background=[255, 0, 0])"
   ],
   "metadata": {
    "collapsed": false,
    "ExecuteTime": {
     "start_time": "2023-06-15T11:42:05.856947Z",
     "end_time": "2023-06-15T11:42:05.864696Z"
    }
   }
  },
  {
   "cell_type": "code",
   "execution_count": 8,
   "outputs": [],
   "source": [
    "imobj2.write_to_file(\"/home/labuser2/Documents/shelter/skin_aging/paddedwsi.png\")"
   ],
   "metadata": {
    "collapsed": false,
    "ExecuteTime": {
     "start_time": "2023-06-15T11:43:44.433675Z",
     "end_time": "2023-06-15T11:52:38.641435Z"
    }
   }
  },
  {
   "cell_type": "code",
   "execution_count": null,
   "outputs": [],
   "source": [],
   "metadata": {
    "collapsed": false
   }
  }
 ],
 "metadata": {
  "kernelspec": {
   "display_name": "Python 3",
   "language": "python",
   "name": "python3"
  },
  "language_info": {
   "codemirror_mode": {
    "name": "ipython",
    "version": 2
   },
   "file_extension": ".py",
   "mimetype": "text/x-python",
   "name": "python",
   "nbconvert_exporter": "python",
   "pygments_lexer": "ipython2",
   "version": "2.7.6"
  }
 },
 "nbformat": 4,
 "nbformat_minor": 0
}
