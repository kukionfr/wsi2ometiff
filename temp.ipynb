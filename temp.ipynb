{
 "cells": [
  {
   "cell_type": "code",
   "execution_count": 1,
   "outputs": [],
   "source": [
    "from scipy.io import loadmat\n",
    "mat = loadmat('/Users/chamisulhuresh/Downloads/HS-012-D9_sec028_visium1.mat')\n",
    "vstd = mat['VSTD'][0][0]\n",
    "genelbl = vstd[0].flatten()\n",
    "data = vstd[1].astype('float')\n",
    "barcode = vstd[2].flatten()\n",
    "matchinfo = vstd[3].flatten()\n",
    "spotgenecount = mat['spi']['spotgenecount']\n",
    "spotdataid = mat['spi']['spotdataid']\n",
    "HasDataSpot = mat['spi']['HasDataSpot']\n",
    "MaxTissueContent = mat['spi']['MaxTissueContent']\n",
    "MaxTissueID = mat['spi']['MaxTissueID']\n",
    "spotcellcount = mat['spi']['spotcellcount']\n",
    "MaxTissueContent_sc = mat['spi']['MaxTissueContent_sc']\n",
    "MaxTissueID_sc = mat['spi']['MaxTissueID_sc']\n",
    "spotxyH = mat['spi']['spotxyH']\n",
    "stc = mat['spi']['stc']\n",
    "stc2 = mat['spi']['stc2']\n",
    "DLTLinfo = mat['spi']['DLTLinfo']"
   ],
   "metadata": {
    "collapsed": false,
    "ExecuteTime": {
     "end_time": "2023-09-18T20:43:22.558919Z",
     "start_time": "2023-09-18T20:43:20.625745Z"
    }
   }
  },
  {
   "cell_type": "code",
   "execution_count": 1,
   "outputs": [
    {
     "name": "stdout",
     "output_type": "stream",
     "text": [
      "1\n",
      "2\n",
      "3\n"
     ]
    }
   ],
   "source": [
    "arr = [1,2,3]\n",
    "\n",
    "for elem in arr:\n",
    "    print(elem)"
   ],
   "metadata": {
    "collapsed": false,
    "ExecuteTime": {
     "end_time": "2023-09-28T19:19:36.681584Z",
     "start_time": "2023-09-28T19:19:36.673911Z"
    }
   }
  },
  {
   "cell_type": "code",
   "execution_count": 2,
   "outputs": [
    {
     "name": "stdout",
     "output_type": "stream",
     "text": [
      "4\n",
      "5\n",
      "6\n"
     ]
    }
   ],
   "source": [
    "arr2 = [4,5,6]\n",
    "for elem in arr2:\n",
    "    print(elem)"
   ],
   "metadata": {
    "collapsed": false,
    "ExecuteTime": {
     "end_time": "2023-09-28T19:20:11.414237Z",
     "start_time": "2023-09-28T19:20:11.407094Z"
    }
   }
  },
  {
   "cell_type": "code",
   "execution_count": 5,
   "outputs": [
    {
     "name": "stdout",
     "output_type": "stream",
     "text": [
      "1\n",
      "2\n",
      "3\n"
     ]
    }
   ],
   "source": [
    "for i in range(len(arr)):\n",
    "    print(arr[i])"
   ],
   "metadata": {
    "collapsed": false,
    "ExecuteTime": {
     "end_time": "2023-09-28T19:20:54.472979Z",
     "start_time": "2023-09-28T19:20:54.470774Z"
    }
   }
  },
  {
   "cell_type": "code",
   "execution_count": null,
   "outputs": [],
   "source": [],
   "metadata": {
    "collapsed": false
   }
  }
 ],
 "metadata": {
  "kernelspec": {
   "display_name": "Python 3",
   "language": "python",
   "name": "python3"
  },
  "language_info": {
   "codemirror_mode": {
    "name": "ipython",
    "version": 2
   },
   "file_extension": ".py",
   "mimetype": "text/x-python",
   "name": "python",
   "nbconvert_exporter": "python",
   "pygments_lexer": "ipython2",
   "version": "2.7.6"
  }
 },
 "nbformat": 4,
 "nbformat_minor": 0
}
