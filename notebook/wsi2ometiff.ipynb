{
 "cells": [
  {
   "cell_type": "code",
   "execution_count": 8,
   "outputs": [],
   "source": [
    "# For, Windows, please import pyvips with this cell\n",
    "# import os\n",
    "# vipshome = 'c:\\\\vips-dev-8.7\\\\bin'\n",
    "# os.environ['PATH'] = vipshome + ';' + os.environ['PATH']"
   ],
   "metadata": {
    "collapsed": false,
    "ExecuteTime": {
     "start_time": "2023-06-15T10:56:06.136482Z",
     "end_time": "2023-06-15T10:56:06.176996Z"
    }
   }
  },
  {
   "cell_type": "code",
   "execution_count": 9,
   "outputs": [],
   "source": [
    "import pyvips  #must use conda to install\n",
    "import os\n",
    "import glob\n",
    "from natsort import natsorted\n",
    "from time import time"
   ],
   "metadata": {
    "collapsed": false,
    "ExecuteTime": {
     "start_time": "2023-06-15T10:56:06.176854Z",
     "end_time": "2023-06-15T10:56:06.177434Z"
    }
   }
  },
  {
   "cell_type": "code",
   "execution_count": 10,
   "outputs": [],
   "source": [
    "def ims2ometiff(ims,outputfilepath):\n",
    "    imobjs = []\n",
    "    for idx,im in enumerate(ims):\n",
    "        impth = os.path.join(input_dir, im)\n",
    "        # imobj = pyvips.Image.new_from_file(impth)\n",
    "        imobj = pyvips.Image.openslideload(impth,level=0)\n",
    "        if imobj.hasalpha(): imobj = imobj[:-1]\n",
    "        imobjs.append(imobj)\n",
    "        print('image {} has dimensions [{},{}]'.format(idx,imobj.height,imobj.width))\n",
    "    print('z stack height :',len(imobjs))\n",
    "    comp = pyvips.Image.arrayjoin(imobjs, across=1)\n",
    "    image_height = imobj.height\n",
    "    image_width = imobj.width\n",
    "    image_bands = imobj.bands\n",
    "    comp = comp.copy()\n",
    "\n",
    "    # set minimal OME metadata\n",
    "    # before we can modify an image (set metadata in this case), we must take a\n",
    "    # private copy\n",
    "    comp.set_type(pyvips.GValue.gint_type, \"page-height\", image_height)\n",
    "    comp.set_type(pyvips.GValue.gstr_type, \"image-description\",\n",
    "                  f\"\"\"<?xml version=\"1.0\" encoding=\"UTF-8\"?>\n",
    "    <OME xmlns=\"http://www.openmicroscopy.org/Schemas/OME/2016-06\"\n",
    "        xmlns:xsi=\"http://www.w3.org/2001/XMLSchema-instance\"\n",
    "        xsi:schemaLocation=\"http://www.openmicroscopy.org/Schemas/OME/2016-06 http://www.openmicroscopy.org/Schemas/OME/2016-06/ome.xsd\">\n",
    "        <Image ID=\"Image:0\">\n",
    "            <!-- Minimum required fields about image dimensions -->\n",
    "            <Pixels DimensionOrder=\"XYCZT\"\n",
    "                    ID=\"Pixels:0\"\n",
    "                    SizeC=\"{image_bands}\"\n",
    "                    SizeT=\"1\"\n",
    "                    SizeX=\"{image_width}\"\n",
    "                    SizeY=\"{image_height}\"\n",
    "                    SizeZ=\"{len(imobjs)}\"\n",
    "                    Type=\"uint8\">\n",
    "            </Pixels>\n",
    "        </Image>\n",
    "    </OME>\"\"\")\n",
    "\n",
    "\n",
    "    #jpeg,jp2k,lzw,\n",
    "    print('saving image...')\n",
    "    # jp2k breaks the format somehow\n",
    "    start=time()\n",
    "    comp.tiffsave(outputfilepath, compression=\"jpeg\", tile=True,\n",
    "                  tile_width=512, tile_height=512,\n",
    "                  pyramid=True, subifd=True)\n",
    "    print('elapsed time: {}'.format(round(time()-start)))\n",
    "    print('ome-tiff saved here: ',outputfilepath)"
   ],
   "metadata": {
    "collapsed": false,
    "ExecuteTime": {
     "start_time": "2023-06-15T10:56:06.177228Z",
     "end_time": "2023-06-15T10:56:06.177665Z"
    }
   }
  },
  {
   "cell_type": "code",
   "execution_count": null,
   "outputs": [
    {
     "name": "stdout",
     "output_type": "stream",
     "text": [
      "['/home/labuser2/Documents/shelter/skin_aging/clue_cohort/wsi/2022-06-07 13.12.34.ndpi', '/home/labuser2/Documents/shelter/skin_aging/clue_cohort/wsi/2022-06-07 13.18.40.ndpi']\n",
      "image 0 has dimensions [52096,69120]\n",
      "image 1 has dimensions [47872,48000]\n",
      "z stack height : 2\n",
      "saving image...\n"
     ]
    }
   ],
   "source": [
    "if __name__=='__main__':\n",
    "    input_dir = '/home/labuser2/Documents/shelter/skin_aging/clue_cohort/wsi'\n",
    "    output_dir = os.path.join(input_dir, 'zstack')\n",
    "    if not os.path.exists(output_dir): os.mkdir(output_dir)\n",
    "\n",
    "    ims = glob.glob(os.path.join(input_dir,'*.ndpi'))\n",
    "    ims = natsorted(ims)\n",
    "    ims = ims[:2]\n",
    "    print(ims)\n",
    "    ims2ometiff(ims,os.path.join(output_dir,'clue20xstack10.ome.tiff'))\n"
   ],
   "metadata": {
    "collapsed": false,
    "ExecuteTime": {
     "start_time": "2023-06-15T10:54:57.953562Z",
     "end_time": "2023-06-15T10:55:00.719886Z"
    },
    "pycharm": {
     "is_executing": true
    }
   }
  }
 ],
 "metadata": {
  "kernelspec": {
   "display_name": "Python 3",
   "language": "python",
   "name": "python3"
  },
  "language_info": {
   "codemirror_mode": {
    "name": "ipython",
    "version": 2
   },
   "file_extension": ".py",
   "mimetype": "text/x-python",
   "name": "python",
   "nbconvert_exporter": "python",
   "pygments_lexer": "ipython2",
   "version": "2.7.6"
  }
 },
 "nbformat": 4,
 "nbformat_minor": 0
}
