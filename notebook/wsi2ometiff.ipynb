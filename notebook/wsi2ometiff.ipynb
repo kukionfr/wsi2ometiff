{
 "cells": [
  {
   "cell_type": "code",
   "execution_count": 9,
   "outputs": [],
   "source": [
    "# For, Windows, please import pyvips with this cell\n",
    "# import os\n",
    "# vipshome = 'c:\\\\vips-dev-8.7\\\\bin'\n",
    "# os.environ['PATH'] = vipshome + ';' + os.environ['PATH']"
   ],
   "metadata": {
    "collapsed": false,
    "ExecuteTime": {
     "end_time": "2023-08-07T18:35:54.531257Z",
     "start_time": "2023-08-07T18:35:54.509158Z"
    }
   }
  },
  {
   "cell_type": "code",
   "execution_count": 10,
   "outputs": [],
   "source": [
    "import pyvips  #must use conda to install\n",
    "import os\n",
    "import glob\n",
    "from natsort import natsorted\n",
    "from time import time"
   ],
   "metadata": {
    "collapsed": false,
    "ExecuteTime": {
     "end_time": "2023-08-07T18:35:54.543648Z",
     "start_time": "2023-08-07T18:35:54.511730Z"
    }
   }
  },
  {
   "cell_type": "code",
   "execution_count": 11,
   "outputs": [],
   "source": [
    "def ims2ometiff(ims,outputfilepath):\n",
    "    imobjs = []\n",
    "    for idx,im in enumerate(ims):\n",
    "        impth = os.path.join(input_dir, im)\n",
    "        imobj = pyvips.Image.new_from_file(impth)\n",
    "        # imobj = pyvips.Image.openslideload(impth,level=0)\n",
    "        if imobj.hasalpha(): imobj = imobj[:-1]\n",
    "        imobjs.append(imobj)\n",
    "        print('image {} has dimensions [{},{}]'.format(idx,imobj.height,imobj.width))\n",
    "    print('z stack height :',len(imobjs))\n",
    "    comp = pyvips.Image.arrayjoin(imobjs, across=1)\n",
    "    image_height = imobj.height\n",
    "    image_width = imobj.width\n",
    "    image_bands = imobj.bands\n",
    "    comp = comp.copy()\n",
    "\n",
    "    # set minimal OME metadata\n",
    "    # before we can modify an image (set metadata in this case), we must take a\n",
    "    # private copy\n",
    "    comp.set_type(pyvips.GValue.gint_type, \"page-height\", image_height)\n",
    "    comp.set_type(pyvips.GValue.gstr_type, \"image-description\",\n",
    "                  f\"\"\"<?xml version=\"1.0\" encoding=\"UTF-8\"?>\n",
    "    <OME xmlns=\"http://www.openmicroscopy.org/Schemas/OME/2016-06\"\n",
    "        xmlns:xsi=\"http://www.w3.org/2001/XMLSchema-instance\"\n",
    "        xsi:schemaLocation=\"http://www.openmicroscopy.org/Schemas/OME/2016-06 http://www.openmicroscopy.org/Schemas/OME/2016-06/ome.xsd\">\n",
    "        <Image ID=\"Image:0\">\n",
    "            <!-- Minimum required fields about image dimensions -->\n",
    "            <Pixels DimensionOrder=\"XYCZT\"\n",
    "                    ID=\"Pixels:0\"\n",
    "                    SizeC=\"{len(imobjs)}\"\n",
    "                    SizeT=\"1\"\n",
    "                    SizeX=\"{image_width}\"\n",
    "                    SizeY=\"{image_height}\"\n",
    "                    SizeZ=\"1\"\n",
    "                    Type=\"uint8\">\n",
    "            </Pixels>\n",
    "        </Image>\n",
    "    </OME>\"\"\")\n",
    "\n",
    "\n",
    "    #jpeg,jp2k,lzw,\n",
    "    print('saving image...')\n",
    "    # jp2k breaks the format somehow\n",
    "    start=time()\n",
    "    comp.tiffsave(outputfilepath, compression=\"none\", tile=True,\n",
    "                  tile_width=512, tile_height=512,\n",
    "                  pyramid=True, subifd=True)\n",
    "    print('elapsed time: {}'.format(round(time()-start)))\n",
    "    print('ome-tiff saved here: ',outputfilepath)"
   ],
   "metadata": {
    "collapsed": false,
    "ExecuteTime": {
     "end_time": "2023-08-07T18:35:54.545071Z",
     "start_time": "2023-08-07T18:35:54.525954Z"
    }
   }
  },
  {
   "cell_type": "code",
   "execution_count": 12,
   "outputs": [
    {
     "name": "stdout",
     "output_type": "stream",
     "text": [
      "4\n",
      "image 0 has dimensions [33513,35183]\n",
      "image 1 has dimensions [33513,35183]\n",
      "image 2 has dimensions [33513,35183]\n",
      "image 3 has dimensions [33513,35183]\n",
      "z stack height : 4\n",
      "saving image...\n",
      "elapsed time: 314\n",
      "ome-tiff saved here:  /Volumes/Digital pathology image lib/Fan Wu/Pei-Hsun/08251 2C_24/well image stitch/1x_/cstack/channel4.ome.tiff\n"
     ]
    }
   ],
   "source": [
    "if __name__=='__main__':\n",
    "    input_dir = '/Volumes/Digital pathology image lib-1/HubMap Skin TMC project/HM-SR1-Skin-P011-B1-SB02'\n",
    "    output_dir = os.path.join(input_dir, 'cstack')\n",
    "    if not os.path.exists(output_dir): os.mkdir(output_dir)\n",
    "    ims = glob.glob(os.path.join(input_dir,'*.tif'))\n",
    "    ims = natsorted(ims)\n",
    "    # ims = [_ for _ in ims if 'round02' in _]\n",
    "    print(len(ims))\n",
    "    ims2ometiff(ims,os.path.join(output_dir,'channel4.ome.tiff'))\n"
   ],
   "metadata": {
    "collapsed": false,
    "pycharm": {
     "is_executing": true
    },
    "ExecuteTime": {
     "end_time": "2023-08-07T18:41:09.675687Z",
     "start_time": "2023-08-07T18:35:54.536784Z"
    }
   }
  },
  {
   "cell_type": "code",
   "execution_count": 12,
   "outputs": [],
   "source": [],
   "metadata": {
    "collapsed": false,
    "ExecuteTime": {
     "end_time": "2023-08-07T18:41:09.948817Z",
     "start_time": "2023-08-07T18:41:09.608382Z"
    }
   }
  }
 ],
 "metadata": {
  "kernelspec": {
   "display_name": "Python 3",
   "language": "python",
   "name": "python3"
  },
  "language_info": {
   "codemirror_mode": {
    "name": "ipython",
    "version": 2
   },
   "file_extension": ".py",
   "mimetype": "text/x-python",
   "name": "python",
   "nbconvert_exporter": "python",
   "pygments_lexer": "ipython2",
   "version": "2.7.6"
  }
 },
 "nbformat": 4,
 "nbformat_minor": 0
}
