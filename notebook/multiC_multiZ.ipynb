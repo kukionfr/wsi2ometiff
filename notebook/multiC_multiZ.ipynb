{
 "cells": [
  {
   "cell_type": "code",
   "execution_count": 1,
   "metadata": {
    "collapsed": true,
    "ExecuteTime": {
     "end_time": "2023-08-14T16:01:20.022831Z",
     "start_time": "2023-08-14T16:01:19.699221Z"
    }
   },
   "outputs": [],
   "source": [
    "import pyvips  #must use conda to install\n",
    "import os\n",
    "import glob\n",
    "from natsort import natsorted\n",
    "from time import time"
   ]
  },
  {
   "cell_type": "code",
   "execution_count": 2,
   "outputs": [],
   "source": [
    "src = '/Volumes/Digital pathology image lib/JHU/Laura Wood/IF for SenPan001/SerialSecAlign/DalignIm/indsf5_outdsf1'\n",
    "sec2 = [_ for _ in os.listdir(src) if 'sec002' in _]\n",
    "sec5 = [_ for _ in os.listdir(src) if 'sec005' in _]"
   ],
   "metadata": {
    "collapsed": false,
    "ExecuteTime": {
     "end_time": "2023-08-14T16:01:24.820487Z",
     "start_time": "2023-08-14T16:01:24.621183Z"
    }
   }
  },
  {
   "cell_type": "code",
   "execution_count": 15,
   "outputs": [
    {
     "data": {
      "text/plain": "['WSI_sec002_round01_ch1.png',\n 'WSI_sec002_round01_ch2.png',\n 'WSI_sec002_round01_ch3.png',\n 'WSI_sec002_round01_ch4.png',\n 'WSI_sec002_round02_ch1.png',\n 'WSI_sec002_round02_ch2.png',\n 'WSI_sec002_round02_ch3.png',\n 'WSI_sec002_round02_ch4.png',\n 'WSI_sec005_round01_ch1.png',\n 'WSI_sec005_round01_ch2.png',\n 'WSI_sec005_round01_ch3.png',\n 'WSI_sec005_round01_ch4.png',\n 'WSI_sec005_round02_ch1.png',\n 'WSI_sec005_round02_ch2.png',\n 'WSI_sec005_round02_ch3.png',\n 'WSI_sec005_round02_ch4.png']"
     },
     "execution_count": 15,
     "metadata": {},
     "output_type": "execute_result"
    }
   ],
   "source": [
    "secs = sec2+sec5\n",
    "secs"
   ],
   "metadata": {
    "collapsed": false,
    "ExecuteTime": {
     "end_time": "2023-08-14T16:05:49.270217Z",
     "start_time": "2023-08-14T16:05:49.261033Z"
    }
   }
  },
  {
   "cell_type": "code",
   "execution_count": 3,
   "outputs": [],
   "source": [
    "sec2s = []\n",
    "for idx,im in enumerate(sec2):\n",
    "    impth = os.path.join(src, im)\n",
    "    imobj = pyvips.Image.new_from_file(impth)\n",
    "    # imobj = pyvips.Image.openslideload(impth,level=0)\n",
    "    if imobj.hasalpha(): imobj = imobj[:-1]\n",
    "    sec2s.append(imobj)"
   ],
   "metadata": {
    "collapsed": false,
    "ExecuteTime": {
     "end_time": "2023-08-14T16:01:26.669116Z",
     "start_time": "2023-08-14T16:01:26.591075Z"
    }
   }
  },
  {
   "cell_type": "code",
   "execution_count": 4,
   "outputs": [],
   "source": [
    "sec5s = []\n",
    "for idx,im in enumerate(sec2):\n",
    "    impth = os.path.join(src, im)\n",
    "    imobj = pyvips.Image.new_from_file(impth)\n",
    "    # imobj = pyvips.Image.openslideload(impth,level=0)\n",
    "    if imobj.hasalpha(): imobj = imobj[:-1]\n",
    "    sec5s.append(imobj)"
   ],
   "metadata": {
    "collapsed": false,
    "ExecuteTime": {
     "end_time": "2023-08-14T16:01:27.076826Z",
     "start_time": "2023-08-14T16:01:27.043940Z"
    }
   }
  },
  {
   "cell_type": "code",
   "execution_count": 16,
   "outputs": [],
   "source": [
    "sec25 = []\n",
    "for idx,im in enumerate(secs):\n",
    "    impth = os.path.join(src, im)\n",
    "    imobj = pyvips.Image.new_from_file(impth)\n",
    "    # imobj = pyvips.Image.openslideload(impth,level=0)\n",
    "    if imobj.hasalpha(): imobj = imobj[:-1]\n",
    "    sec25.append(imobj)"
   ],
   "metadata": {
    "collapsed": false,
    "ExecuteTime": {
     "end_time": "2023-08-14T16:06:06.161381Z",
     "start_time": "2023-08-14T16:06:05.054832Z"
    }
   }
  },
  {
   "cell_type": "code",
   "execution_count": 5,
   "outputs": [],
   "source": [
    "image_height = imobj.height\n",
    "image_width = imobj.width"
   ],
   "metadata": {
    "collapsed": false,
    "ExecuteTime": {
     "end_time": "2023-08-14T16:01:28.389007Z",
     "start_time": "2023-08-14T16:01:28.376992Z"
    }
   }
  },
  {
   "cell_type": "code",
   "execution_count": 6,
   "outputs": [],
   "source": [
    "comp2 = pyvips.Image.arrayjoin(sec2s, across=1)\n",
    "comp5 = pyvips.Image.arrayjoin(sec5s, across=1)"
   ],
   "metadata": {
    "collapsed": false,
    "ExecuteTime": {
     "end_time": "2023-08-14T16:01:31.268480Z",
     "start_time": "2023-08-14T16:01:31.260151Z"
    }
   }
  },
  {
   "cell_type": "code",
   "execution_count": 17,
   "outputs": [],
   "source": [
    "comp25 = pyvips.Image.arrayjoin(sec25, across=1)"
   ],
   "metadata": {
    "collapsed": false,
    "ExecuteTime": {
     "end_time": "2023-08-14T16:06:22.329521Z",
     "start_time": "2023-08-14T16:06:22.324152Z"
    }
   }
  },
  {
   "cell_type": "code",
   "execution_count": 18,
   "outputs": [],
   "source": [
    "comp25 = comp25.copy()"
   ],
   "metadata": {
    "collapsed": false,
    "ExecuteTime": {
     "end_time": "2023-08-14T16:06:31.201872Z",
     "start_time": "2023-08-14T16:06:31.199144Z"
    }
   }
  },
  {
   "cell_type": "code",
   "execution_count": 7,
   "outputs": [],
   "source": [
    "comps = pyvips.Image.arrayjoin([comp2,comp5], across=1)"
   ],
   "metadata": {
    "collapsed": false,
    "ExecuteTime": {
     "end_time": "2023-08-14T16:01:33.000693Z",
     "start_time": "2023-08-14T16:01:32.990896Z"
    }
   }
  },
  {
   "cell_type": "code",
   "execution_count": 8,
   "outputs": [],
   "source": [
    "comp2 = comp2.copy()\n",
    "comp5 = comp5.copy()\n",
    "comps = comps.copy()"
   ],
   "metadata": {
    "collapsed": false,
    "ExecuteTime": {
     "end_time": "2023-08-14T16:01:34.009768Z",
     "start_time": "2023-08-14T16:01:34.002450Z"
    }
   }
  },
  {
   "cell_type": "code",
   "execution_count": 9,
   "outputs": [],
   "source": [
    "comp2.set_type(pyvips.GValue.gint_type, \"page-height\", image_height)\n",
    "comp2.set_type(pyvips.GValue.gstr_type, \"image-description\",\n",
    "              f\"\"\"<?xml version=\"1.0\" encoding=\"UTF-8\"?>\n",
    "<OME xmlns=\"http://www.openmicroscopy.org/Schemas/OME/2016-06\"\n",
    "    xmlns:xsi=\"http://www.w3.org/2001/XMLSchema-instance\"\n",
    "    xsi:schemaLocation=\"http://www.openmicroscopy.org/Schemas/OME/2016-06 http://www.openmicroscopy.org/Schemas/OME/2016-06/ome.xsd\">\n",
    "    <Image ID=\"Image:0\">\n",
    "        <!-- Minimum required fields about image dimensions -->\n",
    "        <Pixels DimensionOrder=\"XYCZT\"\n",
    "                ID=\"Pixels:0\"\n",
    "                SizeC=\"8\"\n",
    "                SizeT=\"1\"\n",
    "                SizeX=\"{image_width}\"\n",
    "                SizeY=\"{image_height}\"\n",
    "                SizeZ=\"1\"\n",
    "                Type=\"uint8\">\n",
    "        </Pixels>\n",
    "    </Image>\n",
    "</OME>\"\"\")"
   ],
   "metadata": {
    "collapsed": false,
    "ExecuteTime": {
     "end_time": "2023-08-14T16:01:57.146526Z",
     "start_time": "2023-08-14T16:01:57.133034Z"
    }
   }
  },
  {
   "cell_type": "code",
   "execution_count": 10,
   "outputs": [
    {
     "name": "stdout",
     "output_type": "stream",
     "text": [
      "elapsed time: 8\n"
     ]
    }
   ],
   "source": [
    "start=time()\n",
    "comp2.tiffsave('comp2.ome.tiff', compression=\"jpeg\", tile=True,\n",
    "              tile_width=512, tile_height=512,\n",
    "              pyramid=True, subifd=True)\n",
    "print('elapsed time: {}'.format(round(time()-start)))"
   ],
   "metadata": {
    "collapsed": false,
    "ExecuteTime": {
     "end_time": "2023-08-14T16:02:09.178540Z",
     "start_time": "2023-08-14T16:02:01.136702Z"
    }
   }
  },
  {
   "cell_type": "code",
   "execution_count": 19,
   "outputs": [],
   "source": [
    "comp25.set_type(pyvips.GValue.gint_type, \"page-height\", image_height)\n",
    "comp25.set_type(pyvips.GValue.gstr_type, \"image-description\",\n",
    "              f\"\"\"<?xml version=\"1.0\" encoding=\"UTF-8\"?>\n",
    "<OME xmlns=\"http://www.openmicroscopy.org/Schemas/OME/2016-06\"\n",
    "    xmlns:xsi=\"http://www.w3.org/2001/XMLSchema-instance\"\n",
    "    xsi:schemaLocation=\"http://www.openmicroscopy.org/Schemas/OME/2016-06 http://www.openmicroscopy.org/Schemas/OME/2016-06/ome.xsd\">\n",
    "    <Image ID=\"Image:0\">\n",
    "        <!-- Minimum required fields about image dimensions -->\n",
    "        <Pixels DimensionOrder=\"XYCZT\"\n",
    "                ID=\"Pixels:0\"\n",
    "                SizeC=\"8\"\n",
    "                SizeT=\"1\"\n",
    "                SizeX=\"{image_width}\"\n",
    "                SizeY=\"{image_height}\"\n",
    "                SizeZ=\"2\"\n",
    "                Type=\"uint8\">\n",
    "        </Pixels>\n",
    "    </Image>\n",
    "</OME>\"\"\")"
   ],
   "metadata": {
    "collapsed": false,
    "ExecuteTime": {
     "end_time": "2023-08-14T16:06:42.719782Z",
     "start_time": "2023-08-14T16:06:42.715038Z"
    }
   }
  },
  {
   "cell_type": "code",
   "execution_count": 20,
   "outputs": [
    {
     "name": "stdout",
     "output_type": "stream",
     "text": [
      "elapsed time: 16\n"
     ]
    }
   ],
   "source": [
    "start=time()\n",
    "comp25.tiffsave('comp25.ome.tiff', compression=\"jpeg\", tile=True,\n",
    "              tile_width=512, tile_height=512,\n",
    "              pyramid=True, subifd=True)\n",
    "print('elapsed time: {}'.format(round(time()-start)))"
   ],
   "metadata": {
    "collapsed": false,
    "ExecuteTime": {
     "end_time": "2023-08-14T16:07:04.706426Z",
     "start_time": "2023-08-14T16:06:48.348953Z"
    }
   }
  },
  {
   "cell_type": "code",
   "execution_count": 12,
   "outputs": [],
   "source": [
    "def png2multiCmultiZOME(ims,outputfilepath):\n",
    "    imobjs = []\n",
    "    for idx,im in enumerate(ims):\n",
    "        impth = os.path.join(input_dir, im)\n",
    "        imobj = pyvips.Image.new_from_file(impth)\n",
    "        # imobj = pyvips.Image.openslideload(impth,level=0)\n",
    "        if imobj.hasalpha(): imobj = imobj[:-1]\n",
    "        imobjs.append(imobj)\n",
    "        # print('image {} has dimensions [{},{}]'.format(idx,imobj.height,imobj.width))\n",
    "    # print('z stack height :',len(imobjs))\n",
    "    comp = pyvips.Image.arrayjoin(imobjs, across=1)\n",
    "    image_height = comp.height\n",
    "    image_width = comp.width\n",
    "    comp = comp.copy()\n",
    "\n",
    "    # set minimal OME metadata\n",
    "    # before we can modify an image (set metadata in this case), we must take a\n",
    "    # private copy\n",
    "    comp.set_type(pyvips.GValue.gint_type, \"page-height\", image_height)\n",
    "    comp.set_type(pyvips.GValue.gstr_type, \"image-description\",\n",
    "                  f\"\"\"<?xml version=\"1.0\" encoding=\"UTF-8\"?>\n",
    "    <OME xmlns=\"http://www.openmicroscopy.org/Schemas/OME/2016-06\"\n",
    "        xmlns:xsi=\"http://www.w3.org/2001/XMLSchema-instance\"\n",
    "        xsi:schemaLocation=\"http://www.openmicroscopy.org/Schemas/OME/2016-06 http://www.openmicroscopy.org/Schemas/OME/2016-06/ome.xsd\">\n",
    "        <Image ID=\"Image:0\">\n",
    "            <!-- Minimum required fields about image dimensions -->\n",
    "            <Pixels DimensionOrder=\"XYCZT\"\n",
    "                    ID=\"Pixels:0\"\n",
    "                    SizeC=\"8\"\n",
    "                    SizeT=\"1\"\n",
    "                    SizeX=\"{image_width}\"\n",
    "                    SizeY=\"{image_height}\"\n",
    "                    SizeZ=\"42\"\n",
    "                    Type=\"uint8\">\n",
    "            </Pixels>\n",
    "        </Image>\n",
    "    </OME>\"\"\")\n",
    "\n",
    "\n",
    "    #jpeg,jp2k,lzw,\n",
    "    print('saving image...')\n",
    "    # jp2k breaks the format somehow\n",
    "    start=time()\n",
    "    comp.tiffsave(outputfilepath, compression=\"none\", tile=True,\n",
    "                  tile_width=512, tile_height=512,\n",
    "                  pyramid=True, subifd=True)\n",
    "    print('elapsed time: {}'.format(round(time()-start)))\n",
    "    print('ome-tiff saved here: ',outputfilepath)"
   ],
   "metadata": {
    "collapsed": false,
    "ExecuteTime": {
     "end_time": "2023-08-11T22:35:09.457584Z",
     "start_time": "2023-08-11T22:35:09.454420Z"
    }
   }
  },
  {
   "cell_type": "code",
   "execution_count": null,
   "outputs": [
    {
     "name": "stdout",
     "output_type": "stream",
     "text": [
      "336\n",
      "saving image...\n"
     ]
    }
   ],
   "source": [
    "if __name__=='__main__':\n",
    "    input_dir = '/Volumes/Digital pathology image lib/JHU/Laura Wood/IF for SenPan001/SerialSecAlign/DalignIm/indsf5_outdsf1'\n",
    "    # output_dir = os.path.join(input_dir, 'cstack')\n",
    "    # if not os.path.exists(output_dir): os.mkdir(output_dir)\n",
    "    ims = glob.glob(os.path.join(input_dir,'*.png'))\n",
    "    ims = natsorted(ims)\n",
    "    print(len(ims))\n",
    "    png2multiCmultiZOME(ims,os.path.join(input_dir,'c8z42.ome.tiff'))"
   ],
   "metadata": {
    "collapsed": false,
    "is_executing": true,
    "ExecuteTime": {
     "start_time": "2023-08-11T22:35:09.459911Z"
    }
   }
  }
 ],
 "metadata": {
  "kernelspec": {
   "display_name": "Python 3",
   "language": "python",
   "name": "python3"
  },
  "language_info": {
   "codemirror_mode": {
    "name": "ipython",
    "version": 2
   },
   "file_extension": ".py",
   "mimetype": "text/x-python",
   "name": "python",
   "nbconvert_exporter": "python",
   "pygments_lexer": "ipython2",
   "version": "2.7.6"
  }
 },
 "nbformat": 4,
 "nbformat_minor": 0
}
